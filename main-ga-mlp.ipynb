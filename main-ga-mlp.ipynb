{
 "cells": [
  {
   "cell_type": "code",
   "execution_count": null,
   "metadata": {},
   "outputs": [],
   "source": [
    "import warnings\n",
    "import pickle\n",
    "import os\n",
    "\n",
    "import matplotlib.pyplot as plt\n",
    "from sklearn.datasets import fetch_openml\n",
    "from sklearn.exceptions import ConvergenceWarning\n",
    "from sklearn.neural_network import MLPClassifier\n",
    "\n",
    "from GeneticAlgorithm import GeneticAlgorithm as GA"
   ]
  },
  {
   "cell_type": "code",
   "execution_count": null,
   "metadata": {},
   "outputs": [],
   "source": [
    "\n",
    "path_x = \"storage/train-test-x.pkl\"\n",
    "path_y = \"storage/train-test-y.pkl\"\n",
    "if not os.path.isfile(path_x):\n",
    "    # Load data from https://www.openml.org/d/554\n",
    "    X, y = fetch_openml('mnist_784', version=1, return_X_y=True)\n",
    "    X = X / 255.\n",
    "\n",
    "    # rescale the data, use the traditional train/test split\n",
    "    X_train, X_test = X[:60000], X[60000:]\n",
    "    y_train, y_test = y[:60000], y[60000:]\n",
    "\n",
    "    file = open(path_x, 'wb')\n",
    "    pickle.dump((X_train, X_test), file)\n",
    "    file.close()\n",
    "    \n",
    "    file = open(path_y, 'wb')\n",
    "    pickle.dump((y_train, y_test), file)\n",
    "    file.close()\n",
    "    \n",
    "else:\n",
    "    file = open(path_x, 'rb')# open a file, where you stored the pickled data\n",
    "    X_train, X_test = pickle.load(file)\n",
    "    file.close()\n",
    "\n",
    "    file = open(path_y, 'rb')# open a file, where you stored the pickled data\n",
    "    y_train, y_test = pickle.load(file)\n",
    "    file.close()"
   ]
  },
  {
   "cell_type": "code",
   "execution_count": null,
   "metadata": {},
   "outputs": [],
   "source": [
    "_ga = GA()\n",
    "\n",
    "@_ga.fitness\n",
    "def _fitness(individu):\n",
    "    model = MLPClassifier(hidden_layer_sizes=tuple(individu[\"kromosom\"]), max_iter=10, alpha=1e-4,\n",
    "                        solver='sgd', verbose=10, random_state=1,\n",
    "                        learning_rate_init=.1)\n",
    "\n",
    "    # this example won't converge because of CI's time constraints, so we catch the warning and are ignore it here\n",
    "    with warnings.catch_warnings():\n",
    "        warnings.filterwarnings(\"ignore\", category=ConvergenceWarning, module=\"sklearn\")\n",
    "        model.fit(X_train, y_train)\n",
    "    individu[\"fitness\"] = model.score(X_test, y_test)"
   ]
  },
  {
   "cell_type": "code",
   "execution_count": null,
   "metadata": {},
   "outputs": [],
   "source": [
    "_ga.setFirstGeneration(restore=True)\n",
    "_ga.population"
   ]
  },
  {
   "cell_type": "code",
   "execution_count": null,
   "metadata": {},
   "outputs": [],
   "source": [
    "_ga.newGeneration()"
   ]
  },
  {
   "cell_type": "code",
   "execution_count": null,
   "metadata": {},
   "outputs": [],
   "source": [
    "_ga.exportToCSV()"
   ]
  },
  {
   "cell_type": "code",
   "execution_count": null,
   "metadata": {},
   "outputs": [],
   "source": [
    "_ga.saveGeneration()"
   ]
  }
 ],
 "metadata": {
  "kernelspec": {
   "display_name": "Python 3",
   "language": "python",
   "name": "python3"
  },
  "language_info": {
   "codemirror_mode": {
    "name": "ipython",
    "version": 3
   },
   "file_extension": ".py",
   "mimetype": "text/x-python",
   "name": "python",
   "nbconvert_exporter": "python",
   "pygments_lexer": "ipython3",
   "version": "3.8.5-final"
  }
 },
 "nbformat": 4,
 "nbformat_minor": 4
}